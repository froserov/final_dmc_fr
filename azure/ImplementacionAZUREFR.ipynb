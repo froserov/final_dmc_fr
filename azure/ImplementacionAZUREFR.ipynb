{
 "cells": [
  {
   "cell_type": "markdown",
   "metadata": {},
   "source": [
    "## **Proceso de despliegue de aplicativo usando AZURE DEVOPS**"
   ]
  },
  {
   "cell_type": "markdown",
   "metadata": {},
   "source": [
    "### **Paso 1: Crear cuenta de AZURE DEVOPS**"
   ]
  },
  {
   "cell_type": "markdown",
   "metadata": {},
   "source": [
    "Se llenara informacion de region y usuario"
   ]
  },
  {
   "cell_type": "markdown",
   "metadata": {},
   "source": [
    "### **Paso 2: Conexión con servicios complementarios de AZURE**"
   ]
  },
  {
   "cell_type": "markdown",
   "metadata": {},
   "source": [
    "Este paso es fundamental porque nos sirve para conectar a DEVOPS con los servicios de **Docker Conteiner Registry** y **Azure Resourse manager**.\n",
    "\n",
    "Si no tenemos un contenedor creado, debemos crear uno nuevo directamente desde la plataforma de AZURE previo a la conexión con  DEVOPS.\n",
    "\n",
    "Una vez creado el contenedor se lo podrá elegir en la interfaz de DEVOPS. Para finalizar se deberá asignar permisos de seguridad y guardar.\n",
    "la conexión.\n",
    "\n",
    "**Es importante recordar el nombre de las conexiones para cada servicio, ya que los llamaremos en nuestro pipe**\n",
    "\n"
   ]
  },
  {
   "cell_type": "markdown",
   "metadata": {},
   "source": [
    "### **Paso 3: Setear Parallel JOB**"
   ]
  },
  {
   "cell_type": "markdown",
   "metadata": {},
   "source": [
    "En este paso se deberá enlazar a DEVOPS con la sucripcion de AZURE PORTAL. Esto servirá a futuro para la facturación del consumo que realice nuestra aplicación cuando esté en producción."
   ]
  },
  {
   "cell_type": "markdown",
   "metadata": {},
   "source": [
    "### **Paso 4: Conectar repositorio**"
   ]
  },
  {
   "cell_type": "markdown",
   "metadata": {},
   "source": [
    "Se deberá enlazar el repositorio de codigo (por ejemplo git hub) con el servicio de DEVOPS.\n",
    "Es importante que al momento de enlazar a DEV Ops  con el repositorio de codigo, ya se encuentre disponible el **archivo .yml**\n",
    "que dicte el funcionamiento del pipeline. Para este ejemplo. Se incluye en el directorio al archivo **azure-pipelines.yml**"
   ]
  },
  {
   "cell_type": "markdown",
   "metadata": {},
   "source": [
    "### **Paso 5: Revisar el funcionamiento del JOB**"
   ]
  }
 ],
 "metadata": {
  "language_info": {
   "name": "python"
  }
 },
 "nbformat": 4,
 "nbformat_minor": 2
}
