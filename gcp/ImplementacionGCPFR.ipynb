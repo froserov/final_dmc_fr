{
 "cells": [
  {
   "cell_type": "markdown",
   "metadata": {},
   "source": [
    "## **Proceso de despliegue de aplicativo usando CLOUD RUN Y CLOUD BUILD**"
   ]
  },
  {
   "cell_type": "markdown",
   "metadata": {},
   "source": [
    "### **Paso 1:  Instalar GCP CLI y  Habilitar Artifact Registry API**"
   ]
  },
  {
   "cell_type": "markdown",
   "metadata": {},
   "source": [
    "### **Paso 2: Crear un nuevo repositorio**"
   ]
  },
  {
   "cell_type": "code",
   "execution_count": null,
   "metadata": {
    "vscode": {
     "languageId": "powershell"
    }
   },
   "outputs": [],
   "source": [
    "gcloud artifacts repositories create REPO_NAME --repository-format=docker --location=LOCATION --description=\"Docker repository\"\n",
    "gcloud artifacts repositories create fr-registry --repository-format=docker --location=LOCATION --description=\"Docker repository\""
   ]
  },
  {
   "cell_type": "markdown",
   "metadata": {
    "vscode": {
     "languageId": "powershell"
    }
   },
   "source": [
    "### **Paso 3: Crear credenciales IAM**\n",
    "En GCLOUD debemos crear una cuenta de servicio, seteando un nombre de cuenta y un ID. Se puede otorgar el permiso \"owner\" a la nueva cuenta de servicio. Posteriormente debemos descargar la llave de la cuenta, la cual se descargará en formato json. "
   ]
  },
  {
   "cell_type": "markdown",
   "metadata": {},
   "source": [
    "### **Paso 4:Confiigurar docker para autenticarse con GCP**"
   ]
  },
  {
   "cell_type": "code",
   "execution_count": null,
   "metadata": {
    "vscode": {
     "languageId": "powershell"
    }
   },
   "outputs": [],
   "source": [
    "gcloud auth configure-docker LOCATION-docker.pkg.dev"
   ]
  },
  {
   "cell_type": "markdown",
   "metadata": {},
   "source": [
    "### **Paso 5:Etiquetar la imagen de Docker**"
   ]
  },
  {
   "cell_type": "code",
   "execution_count": null,
   "metadata": {
    "vscode": {
     "languageId": "powershell"
    }
   },
   "outputs": [],
   "source": [
    "docker tag LOCAL_IMAGE_NAME LOCATION-docker.pkg.dev/PROJECT_ID/REPO_NAME/IMAGE_NAME:TAG"
   ]
  },
  {
   "cell_type": "markdown",
   "metadata": {},
   "source": [
    "### **Paso 6: Hacer push a la imagen inicial de Docker**"
   ]
  },
  {
   "cell_type": "code",
   "execution_count": null,
   "metadata": {
    "vscode": {
     "languageId": "powershell"
    }
   },
   "outputs": [],
   "source": [
    "docker push LOCATION-docker.pkg.dev/PROJECT_ID/REPO_NAME/IMAGE_NAME:TAG"
   ]
  },
  {
   "cell_type": "markdown",
   "metadata": {},
   "source": [
    "### **Paso 7:Verificar que el push se haya realizado correctamente**"
   ]
  },
  {
   "cell_type": "code",
   "execution_count": null,
   "metadata": {
    "vscode": {
     "languageId": "powershell"
    }
   },
   "outputs": [],
   "source": [
    "gcloud artifacts docker images list LOCATION-docker.pkg.dev/PROJECT_ID/REPO_NAME"
   ]
  },
  {
   "cell_type": "markdown",
   "metadata": {},
   "source": [
    "### **Paso 8: Configurar servicio en Google Cloud Run**"
   ]
  },
  {
   "cell_type": "markdown",
   "metadata": {},
   "source": [
    "### Pasos para CD "
   ]
  },
  {
   "cell_type": "markdown",
   "metadata": {},
   "source": [
    "### **Paso 9:Linkear la conexion**\n",
    "\n",
    "Luego de creado el link de conexion, se deberá conectarlo a un repositorio especifico. Es importante que dentro de este repositorio resida el archivo **.yml** que nos ayudará a orquestar nuestro pipe"
   ]
  },
  {
   "cell_type": "markdown",
   "metadata": {},
   "source": [
    "### **Paso 10: Setear un trigger**\n",
    "\n",
    "Este disparador debemos configurarlo para que ejecute nuestro pipe cada vez que hagamos un push a nuestro repositorio de codigo al que nos hemos conectado anteriormente. \n",
    "\n",
    "En  este punto es importante especificar la ruta en la que hemos situado a nuestro archivo .yml . Como se dijo anteriormente. Es mejor ubicarlo siempre en la ruta raiz."
   ]
  },
  {
   "cell_type": "markdown",
   "metadata": {},
   "source": [
    "### **Paso 11: Asegurarsee que los servicios CLOUD RUN, CLOUD BUILD Y SERVICE ACCOUNTS esten activados para nuestro proyecto**"
   ]
  },
  {
   "cell_type": "markdown",
   "metadata": {},
   "source": [
    "### **Paso 12: Probar el funcionamiento correcto del Trigger**"
   ]
  }
 ],
 "metadata": {
  "language_info": {
   "name": "python"
  }
 },
 "nbformat": 4,
 "nbformat_minor": 2
}
